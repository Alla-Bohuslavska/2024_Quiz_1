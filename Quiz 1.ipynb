{
 "cells": [
  {
   "cell_type": "markdown",
   "id": "afa158e1-be9b-4c61-a0d7-f346af40fcd9",
   "metadata": {},
   "source": [
    "## Statistics 2780A - Statistical Inference ##\n",
    "## Fall 2024 #\n",
    "## Quiz 1 #\n",
    "October 16, 2024\n",
    "\n",
    "## Formulae: ##\n",
    "\n",
    "### Confidence Intervals\n",
    "\n",
    "A $(1-\\alpha)\\%$ confidence interval is calculated by finding\n",
    "$$(point\\  \\  \\  estimate) \\pm z^*\\times SE,$$\n",
    "where $z^*$ is the critical value (quantile at level $1-\\alpha/2$) and SE is the estimator for standard deviation. \n",
    "\n",
    "Thus, the $(1-\\alpha)\\%$ approximate confidence interval for one proportion is calculated by finding\n",
    "$$ \\hat p \\pm z^* \\times\\sqrt{\\frac{\\hat p \\times (1-\\hat p)}{n}}.$$\n"
   ]
  },
  {
   "cell_type": "markdown",
   "id": "d82d4fb0-68fe-4f20-a990-3ce255f6be5a",
   "metadata": {},
   "source": [
    "## Question 1. (10 pts) Construct a Confidence Interval ##"
   ]
  },
  {
   "cell_type": "markdown",
   "id": "790edf19-fc02-4a71-afa3-3f9f40ddb2d2",
   "metadata": {},
   "source": [
    "## Data Information: ##\n",
    "The data for this tutorial was inspired by:\n",
    "* \"Canadian postsecondary enrolments and graduates, 2016/2017.\" Statistics Canada. 2018-11-28. https://www150.statcan.gc.ca/n1/daily-quotidien/181128/dq181128c-eng.htm.\n",
    "\n",
    "Suppose a sample of students enrolled in Canadian universities yielded the following data:  \n",
    "​\n",
    "<table>             \n",
    "<tr><th>    Field of study  </th><th>   2016/2017   </th></tr>\n",
    "<tr><td>    Personal improvement and leisure    </td><td>   3   </td></tr>\n",
    "<tr><td>    Education   </td><td>   77  </td></tr>\n",
    "<tr><td>    Visual and performing arts, and communications technologies </td><td>   41  </td></tr>\n",
    "<tr><td>    Humanities  </td><td>   159 </td></tr>\n",
    "<tr><td>    Social and behavioural sciences, and law    </td><td>   225 </td></tr>\n",
    "<tr><td>    Business, management and public administration  </td><td>   262 </td></tr>\n",
    "<tr><td>    Physical and life sciences, and technologies    </td><td>   136 </td></tr>\n",
    "<tr><td>    Mathematics, computer and information sciences  </td><td>   55  </td></tr>\n",
    "<tr><td>    Architecture, engineering and related technologies  </td><td>   136 </td></tr>\n",
    "<tr><td>    Agriculture, natural resources and conservation </td><td>   23  </td></tr>\n",
    "<tr><td>    Health and related fields   </td><td>   170 </td></tr>\n",
    "<tr><td>    Personal, protective and transportation services    </td><td>   7   </td></tr>\n",
    "<tr><td>    Other fields of study   </td><td>   42  </td></tr>\n",
    "<tr><th>    Total   </th><th>   1336    </th></tr>\n",
    "</table>                \n",
    "​\n",
    "\n",
    "\n",
    "* a. What proportion of all the students in this survey reported their field of study to be Humanities?\n",
    "* b. To calculate a 95% confidence interval, $z^* = 1.96$. Find the 95% confidence interval for the proportion of students studying Humanities.\n",
    "* c. What value do you use for $z^*$ to create a 93% confidence interval (round to 2 decimal places). [You can use $\\texttt{qnorm}$ to find this value]\n",
    "* d. Find the 93% confidence interval for the proportion of students studying Humanities."
   ]
  },
  {
   "cell_type": "code",
   "execution_count": null,
   "id": "423e2185-5e1d-4358-b668-d50e0afc6980",
   "metadata": {},
   "outputs": [],
   "source": [
    "# answer 1.a."
   ]
  },
  {
   "cell_type": "code",
   "execution_count": null,
   "id": "d9e70691-75c3-4ce1-8b7f-3cf6e7d9a1aa",
   "metadata": {},
   "outputs": [],
   "source": [
    "# answer 1.b."
   ]
  },
  {
   "cell_type": "code",
   "execution_count": null,
   "id": "72077e4b-6ce5-4a43-8702-fb03e772b512",
   "metadata": {},
   "outputs": [],
   "source": [
    "# answer 1.c."
   ]
  },
  {
   "cell_type": "code",
   "execution_count": null,
   "id": "aef952b8-0377-4914-98d3-2707988772d3",
   "metadata": {},
   "outputs": [],
   "source": [
    "# answer 1.d."
   ]
  },
  {
   "cell_type": "markdown",
   "id": "3b12a8b8-68ad-4b96-a85e-91ad76d41e09",
   "metadata": {},
   "source": [
    "## Q2 (10 pts) ##\n",
    "You can compute the quantiles and probabilities of the Student's T distribution in R using the $\\texttt{qt()}$ function for quantiles and the $\\texttt{pt()}$ function for probabilities. \n",
    "\n",
    "\n",
    "2. Compute the following quantiles of Student's T distribution:\n",
    "   1. 93th quantile of T distribution with 9 degrees of freedom;\n",
    "   2. 95th quantile of T distribution with 6 degrees of freedom;\n",
    "   3. 90th quantile of T distribution with 12 degrees of freedom;\n",
    "   4. 10th quantile of T distribution with 12 degrees of freedom.\n",
    "   \n",
    "   What do you observe about the quantiles computed in C. and D. Justify your answer.\n",
    "\n",
    "   Compute the following probabilities of a random variable $T$, Student's T distributed:\n",
    "\n",
    "   5. $P(T\\leq 2.5)$, where $T\\sim t_{8}$;\n",
    "   6. $P(T\\leq -0.65)$, where $T\\sim t_{18}$;\n",
    "   7. $P(T\\leq 0.93)$, where $T\\sim t_4$;\n",
    "\n",
    "    8. Compute the 85th quantile of T distribution with 45 degrees of freedom and the 85th quantile of the standard normal distribution. What do you observe about the values of the two quantiles? Justify your answer."
   ]
  },
  {
   "cell_type": "code",
   "execution_count": null,
   "id": "5c94822f-7eaf-4992-8e61-c477f3a3320c",
   "metadata": {},
   "outputs": [],
   "source": [
    "# answer"
   ]
  },
  {
   "cell_type": "code",
   "execution_count": null,
   "id": "b93dbccb-d0db-4c24-ab15-1cbeb432a71a",
   "metadata": {},
   "outputs": [],
   "source": [
    "# What do you observe about the quantiles computed in C. and D. Justify your answer."
   ]
  },
  {
   "cell_type": "code",
   "execution_count": null,
   "id": "56cee55c-f690-4c24-9ff4-0c07c11a4cc1",
   "metadata": {},
   "outputs": [],
   "source": [
    "# answer"
   ]
  },
  {
   "cell_type": "markdown",
   "id": "9aebf814-1a4f-4e61-aef3-4269011dea18",
   "metadata": {},
   "source": [
    "## Q3 (10 pts) ##"
   ]
  },
  {
   "cell_type": "markdown",
   "id": "ce2acf74-905c-4cf4-8916-e781253f5a7d",
   "metadata": {},
   "source": [
    "3. Consider the dataset $\\texttt{mtcars}$. We focus on the relationship between weight (regressor x) and miles per gallon (response y).\n",
    "\n",
    "    1. Estimate the slope and the intercept of the linear regression using the function `lm(y~x)`. Interpret the values.  \n",
    "    2. Check if the data are appropriate for a linear regression.  \n",
    "       1. Plot the QQ-plot and the histogram of the residuals and compare them with the theoretical normal distribution.   \n",
    "       2. Plot the regressor versus the residuals. Interpret the result.  \n",
    "       3. Plot the response and the fitted values versus the residuals to check if the variance is approximately constant. What do you observe?\n",
    "       "
   ]
  },
  {
   "cell_type": "code",
   "execution_count": 1,
   "id": "acd29fef-9f71-4e06-a7ea-adbc5ed7464e",
   "metadata": {},
   "outputs": [],
   "source": [
    "data(mtcars)"
   ]
  },
  {
   "cell_type": "code",
   "execution_count": 2,
   "id": "c39213a9-fc05-463b-bc36-2448092ad2b5",
   "metadata": {},
   "outputs": [
    {
     "data": {
      "text/html": [
       "<table class=\"dataframe\">\n",
       "<caption>A data.frame: 6 × 11</caption>\n",
       "<thead>\n",
       "\t<tr><th></th><th scope=col>mpg</th><th scope=col>cyl</th><th scope=col>disp</th><th scope=col>hp</th><th scope=col>drat</th><th scope=col>wt</th><th scope=col>qsec</th><th scope=col>vs</th><th scope=col>am</th><th scope=col>gear</th><th scope=col>carb</th></tr>\n",
       "\t<tr><th></th><th scope=col>&lt;dbl&gt;</th><th scope=col>&lt;dbl&gt;</th><th scope=col>&lt;dbl&gt;</th><th scope=col>&lt;dbl&gt;</th><th scope=col>&lt;dbl&gt;</th><th scope=col>&lt;dbl&gt;</th><th scope=col>&lt;dbl&gt;</th><th scope=col>&lt;dbl&gt;</th><th scope=col>&lt;dbl&gt;</th><th scope=col>&lt;dbl&gt;</th><th scope=col>&lt;dbl&gt;</th></tr>\n",
       "</thead>\n",
       "<tbody>\n",
       "\t<tr><th scope=row>Mazda RX4</th><td>21.0</td><td>6</td><td>160</td><td>110</td><td>3.90</td><td>2.620</td><td>16.46</td><td>0</td><td>1</td><td>4</td><td>4</td></tr>\n",
       "\t<tr><th scope=row>Mazda RX4 Wag</th><td>21.0</td><td>6</td><td>160</td><td>110</td><td>3.90</td><td>2.875</td><td>17.02</td><td>0</td><td>1</td><td>4</td><td>4</td></tr>\n",
       "\t<tr><th scope=row>Datsun 710</th><td>22.8</td><td>4</td><td>108</td><td> 93</td><td>3.85</td><td>2.320</td><td>18.61</td><td>1</td><td>1</td><td>4</td><td>1</td></tr>\n",
       "\t<tr><th scope=row>Hornet 4 Drive</th><td>21.4</td><td>6</td><td>258</td><td>110</td><td>3.08</td><td>3.215</td><td>19.44</td><td>1</td><td>0</td><td>3</td><td>1</td></tr>\n",
       "\t<tr><th scope=row>Hornet Sportabout</th><td>18.7</td><td>8</td><td>360</td><td>175</td><td>3.15</td><td>3.440</td><td>17.02</td><td>0</td><td>0</td><td>3</td><td>2</td></tr>\n",
       "\t<tr><th scope=row>Valiant</th><td>18.1</td><td>6</td><td>225</td><td>105</td><td>2.76</td><td>3.460</td><td>20.22</td><td>1</td><td>0</td><td>3</td><td>1</td></tr>\n",
       "</tbody>\n",
       "</table>\n"
      ],
      "text/latex": [
       "A data.frame: 6 × 11\n",
       "\\begin{tabular}{r|lllllllllll}\n",
       "  & mpg & cyl & disp & hp & drat & wt & qsec & vs & am & gear & carb\\\\\n",
       "  & <dbl> & <dbl> & <dbl> & <dbl> & <dbl> & <dbl> & <dbl> & <dbl> & <dbl> & <dbl> & <dbl>\\\\\n",
       "\\hline\n",
       "\tMazda RX4 & 21.0 & 6 & 160 & 110 & 3.90 & 2.620 & 16.46 & 0 & 1 & 4 & 4\\\\\n",
       "\tMazda RX4 Wag & 21.0 & 6 & 160 & 110 & 3.90 & 2.875 & 17.02 & 0 & 1 & 4 & 4\\\\\n",
       "\tDatsun 710 & 22.8 & 4 & 108 &  93 & 3.85 & 2.320 & 18.61 & 1 & 1 & 4 & 1\\\\\n",
       "\tHornet 4 Drive & 21.4 & 6 & 258 & 110 & 3.08 & 3.215 & 19.44 & 1 & 0 & 3 & 1\\\\\n",
       "\tHornet Sportabout & 18.7 & 8 & 360 & 175 & 3.15 & 3.440 & 17.02 & 0 & 0 & 3 & 2\\\\\n",
       "\tValiant & 18.1 & 6 & 225 & 105 & 2.76 & 3.460 & 20.22 & 1 & 0 & 3 & 1\\\\\n",
       "\\end{tabular}\n"
      ],
      "text/markdown": [
       "\n",
       "A data.frame: 6 × 11\n",
       "\n",
       "| <!--/--> | mpg &lt;dbl&gt; | cyl &lt;dbl&gt; | disp &lt;dbl&gt; | hp &lt;dbl&gt; | drat &lt;dbl&gt; | wt &lt;dbl&gt; | qsec &lt;dbl&gt; | vs &lt;dbl&gt; | am &lt;dbl&gt; | gear &lt;dbl&gt; | carb &lt;dbl&gt; |\n",
       "|---|---|---|---|---|---|---|---|---|---|---|---|\n",
       "| Mazda RX4 | 21.0 | 6 | 160 | 110 | 3.90 | 2.620 | 16.46 | 0 | 1 | 4 | 4 |\n",
       "| Mazda RX4 Wag | 21.0 | 6 | 160 | 110 | 3.90 | 2.875 | 17.02 | 0 | 1 | 4 | 4 |\n",
       "| Datsun 710 | 22.8 | 4 | 108 |  93 | 3.85 | 2.320 | 18.61 | 1 | 1 | 4 | 1 |\n",
       "| Hornet 4 Drive | 21.4 | 6 | 258 | 110 | 3.08 | 3.215 | 19.44 | 1 | 0 | 3 | 1 |\n",
       "| Hornet Sportabout | 18.7 | 8 | 360 | 175 | 3.15 | 3.440 | 17.02 | 0 | 0 | 3 | 2 |\n",
       "| Valiant | 18.1 | 6 | 225 | 105 | 2.76 | 3.460 | 20.22 | 1 | 0 | 3 | 1 |\n",
       "\n"
      ],
      "text/plain": [
       "                  mpg  cyl disp hp  drat wt    qsec  vs am gear carb\n",
       "Mazda RX4         21.0 6   160  110 3.90 2.620 16.46 0  1  4    4   \n",
       "Mazda RX4 Wag     21.0 6   160  110 3.90 2.875 17.02 0  1  4    4   \n",
       "Datsun 710        22.8 4   108   93 3.85 2.320 18.61 1  1  4    1   \n",
       "Hornet 4 Drive    21.4 6   258  110 3.08 3.215 19.44 1  0  3    1   \n",
       "Hornet Sportabout 18.7 8   360  175 3.15 3.440 17.02 0  0  3    2   \n",
       "Valiant           18.1 6   225  105 2.76 3.460 20.22 1  0  3    1   "
      ]
     },
     "metadata": {},
     "output_type": "display_data"
    }
   ],
   "source": [
    "head(mtcars)"
   ]
  },
  {
   "cell_type": "code",
   "execution_count": null,
   "id": "baa1e8c5-18ea-47ba-972d-d1e3fc690a44",
   "metadata": {},
   "outputs": [],
   "source": [
    "# answer"
   ]
  },
  {
   "cell_type": "markdown",
   "id": "3f030e7a-c272-4e5b-bd2b-755a5bf0f08e",
   "metadata": {},
   "source": [
    "## You now need to upload your work to Crowdmark. \n",
    "\n",
    "You will need to make a pdf of your work here.\n",
    "\n",
    "You can use the print to pdf option in your browser. \n",
    "\n",
    "You can also use File>Download as >pdf via latex"
   ]
  }
 ],
 "metadata": {
  "kernelspec": {
   "display_name": "R",
   "language": "R",
   "name": "ir"
  },
  "language_info": {
   "codemirror_mode": "r",
   "file_extension": ".r",
   "mimetype": "text/x-r-source",
   "name": "R",
   "pygments_lexer": "r",
   "version": "4.3.3"
  }
 },
 "nbformat": 4,
 "nbformat_minor": 5
}
